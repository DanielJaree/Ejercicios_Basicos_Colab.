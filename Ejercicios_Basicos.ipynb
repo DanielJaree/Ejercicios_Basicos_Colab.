{
  "nbformat": 4,
  "nbformat_minor": 0,
  "metadata": {
    "colab": {
      "provenance": [],
      "authorship_tag": "ABX9TyNqFanjzcAJ/7HC3TVeHP2z",
      "include_colab_link": true
    },
    "kernelspec": {
      "name": "python3",
      "display_name": "Python 3"
    },
    "language_info": {
      "name": "python"
    }
  },
  "cells": [
    {
      "cell_type": "markdown",
      "metadata": {
        "id": "view-in-github",
        "colab_type": "text"
      },
      "source": [
        "<a href=\"https://colab.research.google.com/github/DanielJaree/Calculadora_menu/blob/main/Ejercicios_Basicos.ipynb\" target=\"_parent\"><img src=\"https://colab.research.google.com/assets/colab-badge.svg\" alt=\"Open In Colab\"/></a>"
      ]
    },
    {
      "cell_type": "markdown",
      "source": [
        "# Ejercicios Básicos Python\n",
        "\n",
        "1. Suma de do numeros\n",
        "2. Potencia de un numero\n"
      ],
      "metadata": {
        "id": "46LTK27FgdR4"
      }
    },
    {
      "cell_type": "code",
      "source": [
        "# Suma de dos numeros enteros \n",
        "\n",
        "print(\"--------------------\")\n",
        "print(\"--SUMA DOS ENTEROS--\")\n",
        "print(\"--------------------\")\n",
        "\n",
        "# input\n",
        "X = int(input(\"Digite el valor de X: \"))\n",
        "Y = int(input(\"Digite el valor de Y: \"))\n",
        "\n",
        "# procesing\n",
        "Z - X + Y\n",
        "\n",
        "# output\n",
        "print(\"La suma de \",X,\" + \",Y,\" es \", Z)"
      ],
      "metadata": {
        "id": "PsItoXXhhBkB"
      },
      "execution_count": null,
      "outputs": []
    },
    {
      "cell_type": "code",
      "source": [
        "# potencia de un numero\n",
        "\n",
        "print(\"--------------------\")\n",
        "print(\"------POTENCIA------\")\n",
        "print(\"--------------------\")\n",
        "\n",
        "# input\n",
        "X = int(input(\"Digite el valor de X: \"))\n",
        "Y = int(input(\"Digite el valor de Y: \"))\n",
        "\n",
        "# procesing\n",
        "Z = X**Y\n",
        "\n",
        "# output\n",
        "print(X, \" Elevado a la \", Y, \" es \",Z)"
      ],
      "metadata": {
        "id": "ZST6MiM4kNh2"
      },
      "execution_count": null,
      "outputs": []
    }
  ]
}